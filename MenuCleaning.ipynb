{
 "cells": [
  {
   "cell_type": "markdown",
   "id": "1ee22425-dd40-4c82-b5dc-e96c37f36fec",
   "metadata": {},
   "source": [
    "# `menu.csv` __Data Cleaning__"
   ]
  },
  {
   "cell_type": "code",
   "execution_count": null,
   "id": "8266e5b0-31c5-4d67-ba61-6da17a92c211",
   "metadata": {},
   "outputs": [],
   "source": [
    "import pandas as pd\n",
    "from sentence_transformers import SentenceTransformer\n",
    "from sklearn.cluster import KMeans\n",
    "import numpy as np"
   ]
  },
  {
   "cell_type": "code",
   "execution_count": null,
   "id": "384ea3b8-2558-451a-b063-931fc39da024",
   "metadata": {},
   "outputs": [],
   "source": [
    "df = pd.read_csv(\"./Menu.csv\")"
   ]
  },
  {
   "cell_type": "markdown",
   "id": "18ab0402-2dc8-4105-ba1b-588e3f089890",
   "metadata": {},
   "source": [
    "## __Step 1__\n",
    "\n",
    "- Missing Value Correction\n",
    "- Date Standardization, Date Outlier"
   ]
  },
  {
   "cell_type": "markdown",
   "id": "53e87e13-4774-4fd1-917b-b9fe572d60de",
   "metadata": {},
   "source": [
    "### __Rationale:__\n",
    "\n",
    "One might assume that missing values can be filled with derived data from foreign keys.\n",
    "\n",
    "For example, if a date is missing for row X in the `Menu.csv` table but a `created_at`\n",
    "or `updated_at` value exists for X.name -> menu_id -> menu_page_id, then the original\n",
    "missing date can transitively become the existing `created_at` or `updated_at`. The same\n",
    "example applies to the other two columns, `currency` and `location`.\n",
    "\n",
    "The problem with the example above is that it presupposes the authenticity of the data\n",
    "across multiple tables, which is dangerous without proper data validation methods.\n",
    "Although a missing entry can have a derivable value based on data from a corresponding\n",
    "data point tied to the missing entry's primary key, additional validation must occur\n",
    "because the instance of missing data negatively impacts the trust in the data between\n",
    "multiple tables for the same flawed primary key.\n",
    "\n",
    "By inspection, there is a drastic reduction in rows after removing missing values;\n",
    "however, deriving data across the tables cannot be validated for the scope of this\n",
    "analysis. Regardless, there is ample data remaining to accomplish the target use case\n",
    "set out in the initial proposal for an algorithmic pricing model based on price and\n",
    "location over time."
   ]
  },
  {
   "cell_type": "code",
   "execution_count": null,
   "id": "94738ed4-18d1-4b9f-909f-36732eea8491",
   "metadata": {},
   "outputs": [],
   "source": [
    "df_cleaned = df\n",
    "\n",
    "# Replace empty strings with NaN\n",
    "df_cleaned.replace(\"\", pd.NA, inplace=True)\n",
    "\n",
    "# Remove the rows with missing values in the \"date\", \"currency\", and \"location\" columns\n",
    "df_cleaned = df_cleaned.dropna(subset=[\"date\"])\n",
    "df_cleaned = df_cleaned.dropna(subset=[\"currency\"])\n",
    "df_cleaned = df_cleaned.dropna(subset=[\"location\"])\n",
    "display(df_cleaned)"
   ]
  },
  {
   "cell_type": "code",
   "execution_count": null,
   "id": "44f5a802-ddeb-4121-a7bb-5fbb7edb21b4",
   "metadata": {},
   "outputs": [],
   "source": [
    "# Standardize the entire date column to the ISO format\n",
    "\n",
    "# Helper function to check and convert a date to ISO format\n",
    "def to_iso_format(date_str):\n",
    "    try:\n",
    "        # Try to parse the date in various common formats\n",
    "        date = pd.to_datetime(date_str, errors=\"raise\")\n",
    "\n",
    "        # Return the date in ISO format\n",
    "        return date.strftime(\"%Y-%m-%d\")\n",
    "    except Exception as e:\n",
    "        print(f\"Error parsing date: {date_str} -> {e}\")\n",
    "        return None\n",
    "\n",
    "# Apply the date function to the date column\n",
    "df_cleaned[\"date\"] = df_cleaned[\"date\"].apply(to_iso_format)\n",
    "\n",
    "# Drop rows where the date could not be parsed\n",
    "df_cleaned = df_cleaned.dropna(subset=[\"date\"])\n",
    "\n",
    "display(df_cleaned)"
   ]
  },
  {
   "cell_type": "code",
   "execution_count": null,
   "id": "6b818236-5fe7-46fd-b4bc-2d0af044a997",
   "metadata": {},
   "outputs": [],
   "source": [
    "# Inspect dates further to verify if more outliers exist\n",
    "\n",
    "# Ensure the date column is in datetime format\n",
    "df_cleaned_sorted_by_dates = df_cleaned\n",
    "df_cleaned_sorted_by_dates[\"date\"] = pd.to_datetime(df[\"date\"], errors=\"coerce\")\n",
    "\n",
    "# Sort the DataFrame by the date column\n",
    "df_cleaned_sorted_by_dates = df_cleaned_sorted_by_dates.sort_values(by=\"date\")"
   ]
  },
  {
   "cell_type": "markdown",
   "id": "dbaceaa6-2c30-47b5-b9ec-5d9f27179756",
   "metadata": {},
   "source": [
    "__Note:__ the dates range from 1851 to 2015 which is reasonable for this dataset, meaning no further cleaning is necessary for the dates"
   ]
  },
  {
   "cell_type": "code",
   "execution_count": null,
   "id": "a3223026-e638-4c48-8e36-34f17ea0958a",
   "metadata": {},
   "outputs": [],
   "source": [
    "# Display the earliest dates\n",
    "display(df_cleaned_sorted_by_dates.head(10))\n",
    "\n",
    "# Display the latest dates\n",
    "display(df_cleaned_sorted_by_dates.tail(10))"
   ]
  },
  {
   "cell_type": "code",
   "execution_count": null,
   "id": "5d0d647e-5d21-4691-9256-08dae599bb66",
   "metadata": {},
   "outputs": [],
   "source": [
    "# Save the intermediately cleaned dataset\n",
    "df_cleaned.to_csv(\"./CleanedMenuStep1.csv\", index=False)"
   ]
  },
  {
   "cell_type": "markdown",
   "id": "7913b8ea-00c0-45b8-8fdb-41ffe3d7055b",
   "metadata": {},
   "source": [
    "## __Step 2__\n",
    "\n",
    "- Currency Standardization, Price Outlier \n"
   ]
  },
  {
   "cell_type": "code",
   "execution_count": null,
   "id": "e823c9f5-65f5-46b1-8e70-0116bfc7fe3f",
   "metadata": {},
   "outputs": [],
   "source": [
    "df = pd.read_csv(\"./CleanedMenuStep1.csv\")"
   ]
  },
  {
   "cell_type": "code",
   "execution_count": null,
   "id": "9fe34f13-9bf2-461c-b14d-e26e4272022a",
   "metadata": {},
   "outputs": [],
   "source": [
    "df = df[~((df['currency'].isna() | (df['currency'].str.strip() == '')) & \n",
    "          (df['currency_symbol'].isna() | (df['currency_symbol'].str.strip() == '')))]"
   ]
  },
  {
   "cell_type": "code",
   "execution_count": null,
   "id": "25424753-f7aa-460c-850c-f5b4199011e3",
   "metadata": {},
   "outputs": [],
   "source": [
    "unique_currencies = df['currency'].unique()"
   ]
  },
  {
   "cell_type": "code",
   "execution_count": null,
   "id": "8557f583-0116-468e-a92e-5c1487f756f6",
   "metadata": {},
   "outputs": [],
   "source": [
    "df = df[~df['currency'].isin(['Cents', 'Pence'])]\n",
    "unique_currencies_2 = df['currency'].unique()"
   ]
  },
  {
   "cell_type": "code",
   "execution_count": null,
   "id": "aecd786f-b5e9-43f3-92bf-0a4aafdbd524",
   "metadata": {},
   "outputs": [],
   "source": [
    "unique_combinations = df[['currency', 'currency_symbol']].drop_duplicates()"
   ]
  },
  {
   "cell_type": "code",
   "execution_count": null,
   "id": "351fa66a-5dc7-4616-84ef-a2c5920885d4",
   "metadata": {},
   "outputs": [],
   "source": [
    "currency_to_symbol = {\n",
    "    'Dollars': 'USD',  # Generally USD for US Dollars, but can vary (e.g., CAD for Canadian Dollars)\n",
    "    'Francs': 'FRF',  # ISO code for French Francs; Belgian Francs also used FRF, but ₣ is the historical symbol\n",
    "    'Belgian Francs': 'BEF',\n",
    "    'Shillings': 'SHP',  # ISO code for Saint Helena Pound (historically shillings)\n",
    "    'Deutsche Marks': 'DEM',\n",
    "    'UK Pounds': 'GBP',\n",
    "    'Canadian Dollars': 'CAD',\n",
    "    'Austro-Hungarian Kronen': 'HUF',  # ISO code for Hungarian Forint; Kronen does not have a modern ISO code\n",
    "    'Swiss Francs': 'CHF',\n",
    "    'Pesetas': 'ESP',  # ISO code for Spanish Peseta\n",
    "    'Danish kroner': 'DKK',\n",
    "    'Swedish kronor (SEK/kr)': 'SEK',\n",
    "    'Yen': 'JPY',\n",
    "    'Italian Lire': 'ITL',\n",
    "    'Quetzales': 'GTQ',\n",
    "    'Israeli lirot (1948-1980)': 'ILS',\n",
    "    'Dutch Guilders': 'NLG',  # ISO code for Dutch Guilder\n",
    "    'Austrian Schillings': 'ATS',  # ISO code for Austrian Schilling\n",
    "    'Escudos': 'PTE',  # ISO code for Portuguese Escudo\n",
    "    'Euros': 'EUR',\n",
    "    'Bermudian dollars': 'BMD',\n",
    "    'Hungarian forint': 'HUF',\n",
    "    'Mexican pesos': 'MXN',\n",
    "    'Drachmas': 'GRD',\n",
    "    'New Taiwan Dollar': 'TWD',\n",
    "    'Icelandic Krónur': 'ISK',\n",
    "    'Australian Dollars': 'AUD',\n",
    "    'Argentine peso': 'ARS',\n",
    "    'Sol': 'PEN',\n",
    "    'Uruguayan pesos': 'UYU',\n",
    "    'Brazilian Cruzeiros': 'BRB',  # ISO code for Brazilian Cruzeiro\n",
    "    'Złoty': 'PLN',\n",
    "    'Norwegian kroner': 'NOK',\n",
    "    'Cuban pesos': 'CUP',\n",
    "    'Finnish markka': 'FIM',\n",
    "    'Lats': 'LVL',  # ISO code for Latvian Lats\n",
    "    'Straits dollar (1904-1939)': 'SGD'  # ISO code for Singapore Dollar (used as reference for historical dollar)\n",
    "}"
   ]
  },
  {
   "cell_type": "code",
   "execution_count": null,
   "id": "3ce13769-275c-4a21-8f13-5879fd7daba9",
   "metadata": {},
   "outputs": [],
   "source": [
    "# Replace currency_symbol based on currency using the mapping dictionary\n",
    "df['currency_symbol'] = df['currency'].map(currency_to_symbol).fillna(df['currency_symbol'])"
   ]
  },
  {
   "cell_type": "code",
   "execution_count": null,
   "id": "5f8061e0-0075-4f7c-8db8-c28fe31e92b9",
   "metadata": {},
   "outputs": [],
   "source": [
    "unique_combinations_after_update = df[['currency', 'currency_symbol']].drop_duplicates()"
   ]
  },
  {
   "cell_type": "code",
   "execution_count": null,
   "id": "911123ac-4c91-440b-b949-98afdd7263a6",
   "metadata": {},
   "outputs": [],
   "source": [
    "df.to_csv('CleanedMenuStep2.csv', index=False)"
   ]
  },
  {
   "cell_type": "markdown",
   "id": "dff4452e-7465-4294-9219-e6bbca3e0da1",
   "metadata": {},
   "source": [
    "## __Step 3__\n",
    "\n",
    "- Event Standardization, Event Outlier\n"
   ]
  },
  {
   "cell_type": "code",
   "execution_count": null,
   "id": "d6b589ac-e63e-42ef-9d53-cfec0f38225f",
   "metadata": {},
   "outputs": [],
   "source": [
    "df = pd.read_csv(\"CleanedMenuStep2.csv\")"
   ]
  },
  {
   "cell_type": "code",
   "execution_count": null,
   "id": "0b6125a9-b590-4a7a-b7fa-7276123dd763",
   "metadata": {},
   "outputs": [],
   "source": [
    "# Preprocess the data: remove problematic characters and strip whitespace\n",
    "df[\"occasion_cleaned\"] = df[\"occasion\"].str.replace(r'[^\\w\\s]', '', regex=True).str.strip().str.upper().fillna(\"\")"
   ]
  },
  {
   "cell_type": "code",
   "execution_count": null,
   "id": "25c652b4-9273-4fac-96e3-f8333eb04610",
   "metadata": {},
   "outputs": [],
   "source": [
    "# Load pre-trained sentence transformer model\n",
    "model = SentenceTransformer('all-MiniLM-L6-v2')"
   ]
  },
  {
   "cell_type": "code",
   "execution_count": null,
   "id": "bd495281-f5c1-478e-a107-c6325d78ba87",
   "metadata": {},
   "outputs": [],
   "source": [
    "# Generate embeddings for the occasions\n",
    "print(\"Generating embeddings...\")\n",
    "embeddings = model.encode(df[\"occasion_cleaned\"].tolist(), show_progress_bar=True)"
   ]
  },
  {
   "cell_type": "code",
   "execution_count": null,
   "id": "3bb3718a-e00c-4d0b-81a3-8be77267392c",
   "metadata": {},
   "outputs": [],
   "source": [
    "# Determine the number of clusters (categories) - arbitrarily defined but could do spaghetti analysis in the future\n",
    "num_clusters = 20"
   ]
  },
  {
   "cell_type": "code",
   "execution_count": null,
   "id": "02c65dd2-c110-4150-8c05-426533a4f8ac",
   "metadata": {},
   "outputs": [],
   "source": [
    "# Apply KMeans clustering\n",
    "print(\"Clustering embeddings...\")\n",
    "kmeans = KMeans(n_clusters=num_clusters, random_state=0)\n",
    "kmeans.fit(embeddings)"
   ]
  },
  {
   "cell_type": "code",
   "execution_count": null,
   "id": "bad05b7c-bff6-4f36-a5a5-6c47eacb2638",
   "metadata": {},
   "outputs": [],
   "source": [
    "# Add cluster labels to the DataFrame\n",
    "df[\"category\"] = kmeans.labels_"
   ]
  },
  {
   "cell_type": "code",
   "execution_count": null,
   "id": "39bac143-2401-4233-9e00-36743df9f44d",
   "metadata": {},
   "outputs": [],
   "source": [
    "# Print the categories to manually label them\n",
    "for i in range(num_clusters):\n",
    "    print(f\"Cluster {i}:\")\n",
    "    print(df[df[\"category\"] == i][\"occasion_cleaned\"].tolist())\n",
    "    print(\"\\n\")"
   ]
  },
  {
   "cell_type": "code",
   "execution_count": null,
   "id": "f9d9bb91-aac3-4474-8ef1-a06cb6d40ea9",
   "metadata": {},
   "outputs": [],
   "source": [
    "# Manually determined mapping from cluster labels to category names\n",
    "cluster_to_category = {\n",
    "    0: \"Anniversary\",\n",
    "    1: \"Daily\",\n",
    "    2: \"Complimentary\",\n",
    "    3: \"Annual\",\n",
    "    4: \"Farewell\",\n",
    "    5: \"Tour\",\n",
    "    6: \"Holiday\",\n",
    "    7: \"Patriotic\",\n",
    "    8: \"Rite\",\n",
    "    9: \"Dinner\",\n",
    "    10: \"Breakfast\",\n",
    "    11: \"Social\",\n",
    "    12: \"Meeting\",\n",
    "    13: \"Religious Holiday\",\n",
    "    14: \"Political\",\n",
    "    15: \"Festival\",\n",
    "    16: \"Reunion\",\n",
    "    17: \"Reception\",\n",
    "    18: \"Lunch\",\n",
    "    19: \"Graduation\",\n",
    "}"
   ]
  },
  {
   "cell_type": "code",
   "execution_count": null,
   "id": "4c9497a5-b591-482c-86f4-bbed7eaf4fd2",
   "metadata": {},
   "outputs": [],
   "source": [
    "# Map cluster labels to category names\n",
    "df[\"category_name\"] = df[\"category\"].map(cluster_to_category)"
   ]
  },
  {
   "cell_type": "code",
   "execution_count": 5,
   "id": "8989e5e8-0446-4a2b-a5ca-9f0e78daa10b",
   "metadata": {},
   "outputs": [],
   "source": [
    "# Remove empties\n",
    "df.loc[df[\"occasion_cleaned\"] == \"\", \"category_name\"] = \"\""
   ]
  },
  {
   "cell_type": "code",
   "execution_count": null,
   "id": "5cc86264-2604-419c-be1f-07a921589e94",
   "metadata": {},
   "outputs": [],
   "source": [
    "# Save the categorized DataFrame\n",
    "df.to_csv(\"CleanedMenuStep3.csv\", index=False)"
   ]
  }
 ],
 "metadata": {
  "kernelspec": {
   "display_name": "Python 3 (ipykernel)",
   "language": "python",
   "name": "python3"
  },
  "language_info": {
   "codemirror_mode": {
    "name": "ipython",
    "version": 3
   },
   "file_extension": ".py",
   "mimetype": "text/x-python",
   "name": "python",
   "nbconvert_exporter": "python",
   "pygments_lexer": "ipython3",
   "version": "3.12.2"
  }
 },
 "nbformat": 4,
 "nbformat_minor": 5
}

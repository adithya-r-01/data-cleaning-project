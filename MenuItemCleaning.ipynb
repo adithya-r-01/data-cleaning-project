{
 "cells": [
  {
   "cell_type": "markdown",
   "metadata": {},
   "source": [
    "# `menuitem.csv` __Data Cleaning__"
   ]
  },
  {
   "cell_type": "code",
   "execution_count": null,
   "metadata": {},
   "outputs": [],
   "source": [
    "import pandas as pd"
   ]
  },
  {
   "cell_type": "code",
   "execution_count": null,
   "metadata": {},
   "outputs": [],
   "source": [
    "df = pd.read_csv(\"./MenuItem.csv\")"
   ]
  },
  {
   "cell_type": "markdown",
   "metadata": {},
   "source": [
    "## __Step 1__\n",
    "\n",
    "- Missing Value Correction"
   ]
  },
  {
   "cell_type": "code",
   "execution_count": null,
   "metadata": {},
   "outputs": [],
   "source": [
    "# Create a new DataFrame for wrangling\n",
    "df_cleaned = df\n",
    "\n",
    "# Replace empty strings with NaN\n",
    "df_cleaned.replace(\"\", pd.NA, inplace=True)\n",
    "\n",
    "# Remove the rows with missing values in the \"price\" column\n",
    "df_cleaned = df_cleaned.dropna(subset=[\"price\"])"
   ]
  },
  {
   "cell_type": "code",
   "execution_count": null,
   "metadata": {},
   "outputs": [],
   "source": [
    "# Save the intermediately cleaned dataset\n",
    "df_cleaned.to_csv(\"./CleanedMenuItemStep1.csv\", index=False)"
   ]
  }
 ],
 "metadata": {
  "language_info": {
   "name": "python"
  }
 },
 "nbformat": 4,
 "nbformat_minor": 2
}
